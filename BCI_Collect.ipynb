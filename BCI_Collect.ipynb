{
 "cells": [
  {
   "cell_type": "code",
   "execution_count": 1,
   "metadata": {},
   "outputs": [],
   "source": [
    "from time import time\n",
    "import bluetooth\n",
    "from mindwavemobile.MindwaveDataPoints import RawDataPoint\n",
    "from mindwavemobile.MindwaveDataPoints import EEGPowersDataPoint\n",
    "from mindwavemobile.MindwaveDataPointReader import MindwaveDataPointReader\n",
    "import textwrap\n",
    "import json\n",
    "import os\n",
    "\n",
    "import cPickle as pickle"
   ]
  },
  {
   "cell_type": "code",
   "execution_count": 2,
   "metadata": {},
   "outputs": [
    {
     "name": "stdout",
     "output_type": "stream",
     "text": [
      "Discovered Mindwave Mobile...\n"
     ]
    }
   ],
   "source": [
    "mindwaveDataPointReader = MindwaveDataPointReader()\n",
    "mindwaveDataPointReader.start()"
   ]
  },
  {
   "cell_type": "code",
   "execution_count": null,
   "metadata": {
    "collapsed": true
   },
   "outputs": [],
   "source": []
  },
  {
   "cell_type": "code",
   "execution_count": 3,
   "metadata": {},
   "outputs": [],
   "source": [
    "# Collects NeuroSky headset data for a specified time by runtime, and puts the signal at every point\n",
    "# into an array that is returned\n",
    "def collectData(runtime = 10, debug = False):\n",
    "    data = []\n",
    "    endtime = time() + runtime\n",
    "    if (mindwaveDataPointReader.isConnected()):    \n",
    "        while(time() < endtime):\n",
    "            dataPoint = mindwaveDataPointReader.readNextDataPoint()            \n",
    "            if (debug and dataPoint.__class__ is not RawDataPoint):\n",
    "                print dataPoint\n",
    "            if (dataPoint.__class__ is EEGPowersDataPoint):\n",
    "                data.append(dataPoint.__dict__)\n",
    "    return data"
   ]
  },
  {
   "cell_type": "code",
   "execution_count": 4,
   "metadata": {
    "scrolled": false
   },
   "outputs": [],
   "source": [
    "participant_name = \"Amanda\"\n",
    "question_id = 1"
   ]
  },
  {
   "cell_type": "code",
   "execution_count": null,
   "metadata": {},
   "outputs": [],
   "source": []
  },
  {
   "cell_type": "code",
   "execution_count": 5,
   "metadata": {},
   "outputs": [],
   "source": [
    "# If lie\n",
    "answer = {\"qid\" : question_id,\n",
    "          \"truthful\" : False, \n",
    "          \"data\" : collectData()}\n",
    "\n",
    "\n",
    "with open(participant_name + \".json\", \"a+\") as f:\n",
    "        json.dump(answer, f)\n",
    "        f.write(os.linesep)\n",
    "\n",
    "question_id += 1"
   ]
  },
  {
   "cell_type": "code",
   "execution_count": null,
   "metadata": {
    "collapsed": true
   },
   "outputs": [],
   "source": []
  },
  {
   "cell_type": "code",
   "execution_count": 6,
   "metadata": {},
   "outputs": [],
   "source": [
    "# If true\n",
    "answer = {\"qid\" : question_id,\n",
    "          \"truthful\" : True, \n",
    "          \"data\" : collectData()}\n",
    "\n",
    "with open(participant_name + \".json\", \"a+\") as f:\n",
    "        json.dump(answer, f)\n",
    "        f.write(os.linesep)\n",
    "\n",
    "question_id += 1"
   ]
  },
  {
   "cell_type": "code",
   "execution_count": null,
   "metadata": {},
   "outputs": [],
   "source": []
  },
  {
   "cell_type": "code",
   "execution_count": 7,
   "metadata": {},
   "outputs": [],
   "source": [
    "def load_answers(name):\n",
    "    with open(name +\".json\", \"r\") as f:\n",
    "        for line in f:\n",
    "            yield json.loads(line)"
   ]
  },
  {
   "cell_type": "code",
   "execution_count": 8,
   "metadata": {},
   "outputs": [],
   "source": [
    "with open(participant_name + \".json\", \"r\") as f:\n",
    "    my_list = [json.loads(line) for line in f]"
   ]
  },
  {
   "cell_type": "code",
   "execution_count": 9,
   "metadata": {},
   "outputs": [
    {
     "name": "stdout",
     "output_type": "stream",
     "text": [
      "{u'qid': 1, u'truthful': False, u'data': [{u'lowGamma': 525854, u'highAlpha': 134492, u'lowBeta': 138913, u'highBeta': 370662, u'_dataValueBytes': [9, 158, 177, 5, 179, 27, 1, 249, 180, 2, 13, 92, 2, 30, 161, 5, 167, 230, 8, 6, 30, 1, 173, 180], u'lowAlpha': 129460, u'delta': 630449, u'theta': 373531, u'midGamma': 110004}, {u'lowGamma': 163343, u'highAlpha': 141842, u'lowBeta': 231427, u'highBeta': 282391, u'_dataValueBytes': [16, 211, 121, 3, 232, 6, 0, 159, 87, 2, 42, 18, 3, 136, 3, 4, 79, 23, 2, 126, 15, 1, 44, 67], u'lowAlpha': 40791, u'delta': 1102713, u'theta': 256006, u'midGamma': 76867}, {u'lowGamma': 70930, u'highAlpha': 18847, u'lowBeta': 16075, u'highBeta': 152711, u'_dataValueBytes': [13, 183, 115, 0, 165, 178, 0, 51, 71, 0, 73, 159, 0, 62, 203, 2, 84, 135, 1, 21, 18, 0, 34, 61], u'lowAlpha': 13127, u'delta': 898931, u'theta': 42418, u'midGamma': 8765}, {u'lowGamma': 285616, u'highAlpha': 33175, u'lowBeta': 110937, u'highBeta': 139902, u'_dataValueBytes': [5, 163, 184, 0, 160, 10, 0, 143, 67, 0, 129, 151, 1, 177, 89, 2, 34, 126, 4, 91, 176, 1, 24, 77], u'lowAlpha': 36675, u'delta': 369592, u'theta': 40970, u'midGamma': 71757}, {u'lowGamma': 121685, u'highAlpha': 140848, u'lowBeta': 136677, u'highBeta': 299675, u'_dataValueBytes': [4, 94, 166, 1, 12, 24, 1, 3, 218, 2, 38, 48, 2, 21, 229, 4, 146, 155, 1, 219, 85, 1, 101, 155], u'lowAlpha': 66522, u'delta': 286374, u'theta': 68632, u'midGamma': 91547}, {u'lowGamma': 1037974, u'highAlpha': 950113, u'lowBeta': 715639, u'highBeta': 1582358, u'_dataValueBytes': [28, 137, 72, 10, 247, 171, 21, 52, 76, 14, 127, 97, 10, 235, 119, 24, 37, 22, 15, 214, 150, 3, 56, 155], u'lowAlpha': 1389644, u'delta': 1870152, u'theta': 718763, u'midGamma': 211099}, {u'lowGamma': 408627, u'highAlpha': 99809, u'lowBeta': 156844, u'highBeta': 570484, u'_dataValueBytes': [7, 190, 77, 0, 129, 6, 0, 224, 131, 1, 133, 225, 2, 100, 172, 8, 180, 116, 6, 60, 51, 1, 41, 119], u'lowAlpha': 57475, u'delta': 507469, u'theta': 33030, u'midGamma': 76151}, {u'lowGamma': 59155, u'highAlpha': 31394, u'lowBeta': 37750, u'highBeta': 131233, u'_dataValueBytes': [3, 114, 143, 0, 236, 38, 0, 71, 55, 0, 122, 162, 0, 147, 118, 2, 0, 161, 0, 231, 19, 0, 40, 178], u'lowAlpha': 18231, u'delta': 225935, u'theta': 60454, u'midGamma': 10418}, {u'lowGamma': 225174, u'highAlpha': 171983, u'lowBeta': 137628, u'highBeta': 928176, u'_dataValueBytes': [32, 168, 128, 1, 196, 144, 0, 135, 9, 2, 159, 207, 2, 25, 156, 14, 41, 176, 3, 111, 150, 2, 246, 3], u'lowAlpha': 34569, u'delta': 2140288, u'theta': 115856, u'midGamma': 194051}, {u'lowGamma': 129643, u'highAlpha': 20818, u'lowBeta': 63839, u'highBeta': 189937, u'_dataValueBytes': [30, 152, 26, 5, 242, 72, 1, 173, 229, 0, 81, 82, 0, 249, 95, 2, 229, 241, 1, 250, 107, 1, 184, 129], u'lowAlpha': 110053, u'delta': 2005018, u'theta': 389704, u'midGamma': 112769}, {u'lowGamma': 8664, u'highAlpha': 1709, u'lowBeta': 491, u'highBeta': 18945, u'_dataValueBytes': [1, 170, 58, 0, 29, 239, 0, 24, 227, 0, 6, 173, 0, 1, 235, 0, 74, 1, 0, 33, 216, 0, 10, 233], u'lowAlpha': 6371, u'delta': 109114, u'theta': 7663, u'midGamma': 2793}, {u'lowGamma': 4596, u'highAlpha': 1748, u'lowBeta': 2895, u'highBeta': 3866, u'_dataValueBytes': [1, 38, 111, 0, 31, 147, 0, 21, 162, 0, 6, 212, 0, 11, 79, 0, 15, 26, 0, 17, 244, 0, 8, 108], u'lowAlpha': 5538, u'delta': 75375, u'theta': 8083, u'midGamma': 2156}, {u'lowGamma': 241725, u'highAlpha': 34596, u'lowBeta': 48520, u'highBeta': 642036, u'_dataValueBytes': [17, 226, 228, 2, 88, 110, 1, 28, 65, 0, 135, 36, 0, 189, 136, 9, 203, 244, 3, 176, 61, 1, 65, 188], u'lowAlpha': 72769, u'delta': 1172196, u'theta': 153710, u'midGamma': 82364}, {u'lowGamma': 24213, u'highAlpha': 1907, u'lowBeta': 1118, u'highBeta': 73720, u'_dataValueBytes': [0, 62, 229, 0, 3, 199, 0, 7, 85, 0, 7, 115, 0, 4, 94, 1, 31, 248, 0, 94, 149, 0, 11, 189], u'lowAlpha': 1877, u'delta': 16101, u'theta': 967, u'midGamma': 3005}, {u'lowGamma': 36620, u'highAlpha': 12844, u'lowBeta': 13909, u'highBeta': 197202, u'_dataValueBytes': [3, 134, 160, 0, 121, 174, 0, 39, 135, 0, 50, 44, 0, 54, 85, 3, 2, 82, 0, 143, 12, 0, 54, 162], u'lowAlpha': 10119, u'delta': 231072, u'theta': 31150, u'midGamma': 13986}, {u'lowGamma': 32677, u'highAlpha': 1864, u'lowBeta': 2142, u'highBeta': 45735, u'_dataValueBytes': [0, 152, 36, 0, 37, 96, 0, 5, 53, 0, 7, 72, 0, 8, 94, 0, 178, 167, 0, 127, 165, 0, 4, 91], u'lowAlpha': 1333, u'delta': 38948, u'theta': 9568, u'midGamma': 1115}, {u'lowGamma': 313944, u'highAlpha': 5977, u'lowBeta': 62751, u'highBeta': 242550, u'_dataValueBytes': [29, 178, 6, 1, 160, 33, 0, 78, 183, 0, 23, 89, 0, 245, 31, 3, 179, 118, 4, 202, 88, 1, 118, 16], u'lowAlpha': 20151, u'delta': 1946118, u'theta': 106529, u'midGamma': 95760}, {u'lowGamma': 49719, u'highAlpha': 25686, u'lowBeta': 18436, u'highBeta': 84606, u'_dataValueBytes': [12, 52, 38, 0, 229, 73, 0, 242, 82, 0, 100, 86, 0, 72, 4, 1, 74, 126, 0, 194, 55, 0, 71, 219], u'lowAlpha': 62034, u'delta': 799782, u'theta': 58697, u'midGamma': 18395}, {u'lowGamma': 167584, u'highAlpha': 311964, u'lowBeta': 145546, u'highBeta': 201942, u'_dataValueBytes': [15, 31, 80, 4, 99, 131, 0, 218, 122, 4, 194, 156, 2, 56, 138, 3, 20, 214, 2, 142, 160, 2, 21, 193], u'lowAlpha': 55930, u'delta': 991056, u'theta': 287619, u'midGamma': 136641}, {u'lowGamma': 77148, u'highAlpha': 135260, u'lowBeta': 141325, u'highBeta': 143622, u'_dataValueBytes': [29, 54, 234, 3, 200, 83, 0, 158, 229, 2, 16, 92, 2, 40, 13, 2, 49, 6, 1, 45, 92, 2, 140, 198], u'lowAlpha': 40677, u'delta': 1914602, u'theta': 247891, u'midGamma': 167110}, {u'lowGamma': 50970, u'highAlpha': 11553, u'lowBeta': 15238, u'highBeta': 192617, u'_dataValueBytes': [1, 83, 116, 0, 170, 35, 0, 72, 215, 0, 45, 33, 0, 59, 134, 2, 240, 105, 0, 199, 26, 0, 85, 147], u'lowAlpha': 18647, u'delta': 86900, u'theta': 43555, u'midGamma': 21907}, {u'lowGamma': 19045, u'highAlpha': 3605, u'lowBeta': 1926, u'highBeta': 49524, u'_dataValueBytes': [0, 36, 168, 0, 14, 92, 0, 12, 166, 0, 14, 21, 0, 7, 134, 0, 193, 116, 0, 74, 101, 0, 9, 31], u'lowAlpha': 3238, u'delta': 9384, u'theta': 3676, u'midGamma': 2335}]}\n",
      "{u'qid': 2, u'truthful': True, u'data': [{u'lowGamma': 31056, u'highAlpha': 7764, u'lowBeta': 7374, u'highBeta': 247430, u'_dataValueBytes': [2, 221, 216, 0, 109, 198, 0, 2, 54, 0, 30, 84, 0, 28, 206, 3, 198, 134, 0, 121, 80, 0, 53, 111], u'lowAlpha': 566, u'delta': 187864, u'theta': 28102, u'midGamma': 13679}, {u'lowGamma': 216063, u'highAlpha': 113148, u'lowBeta': 33204, u'highBeta': 807231, u'_dataValueBytes': [20, 49, 207, 2, 244, 17, 1, 57, 18, 1, 185, 252, 0, 129, 180, 12, 81, 63, 3, 75, 255, 2, 149, 72], u'lowAlpha': 80146, u'delta': 1323471, u'theta': 193553, u'midGamma': 169288}, {u'lowGamma': 333682, u'highAlpha': 58708, u'lowBeta': 125836, u'highBeta': 509240, u'_dataValueBytes': [21, 186, 89, 6, 127, 227, 0, 76, 65, 0, 229, 84, 1, 235, 140, 7, 197, 56, 5, 23, 114, 1, 26, 211], u'lowAlpha': 19521, u'delta': 1423961, u'theta': 425955, u'midGamma': 72403}, {u'lowGamma': 59313, u'highAlpha': 48073, u'lowBeta': 16985, u'highBeta': 124182, u'_dataValueBytes': [9, 199, 6, 1, 65, 37, 0, 93, 238, 0, 187, 201, 0, 66, 89, 1, 229, 22, 0, 231, 177, 0, 30, 254], u'lowAlpha': 24046, u'delta': 640774, u'theta': 82213, u'midGamma': 7934}, {u'lowGamma': 100102, u'highAlpha': 65705, u'lowBeta': 128818, u'highBeta': 516192, u'_dataValueBytes': [27, 63, 205, 4, 152, 71, 0, 116, 133, 1, 0, 169, 1, 247, 50, 7, 224, 96, 1, 135, 6, 1, 88, 1], u'lowAlpha': 29829, u'delta': 1785805, u'theta': 301127, u'midGamma': 88065}, {u'lowGamma': 23912, u'highAlpha': 28588, u'lowBeta': 48383, u'highBeta': 52266, u'_dataValueBytes': [10, 183, 128, 0, 97, 182, 0, 34, 152, 0, 111, 172, 0, 188, 255, 0, 204, 42, 0, 93, 104, 0, 68, 226], u'lowAlpha': 8856, u'delta': 702336, u'theta': 25014, u'midGamma': 17634}, {u'lowGamma': 351524, u'highAlpha': 117431, u'lowBeta': 72793, u'highBeta': 282488, u'_dataValueBytes': [16, 218, 66, 2, 77, 208, 1, 146, 196, 1, 202, 183, 1, 28, 89, 4, 79, 120, 5, 93, 36, 1, 22, 59], u'lowAlpha': 103108, u'delta': 1104450, u'theta': 150992, u'midGamma': 71227}, {u'lowGamma': 175339, u'highAlpha': 65832, u'lowBeta': 58835, u'highBeta': 171471, u'_dataValueBytes': [3, 152, 50, 1, 94, 248, 2, 60, 77, 1, 1, 40, 0, 229, 211, 2, 157, 207, 2, 172, 235, 1, 104, 17], u'lowAlpha': 146509, u'delta': 235570, u'theta': 89848, u'midGamma': 92177}, {u'lowGamma': 239094, u'highAlpha': 154706, u'lowBeta': 121303, u'highBeta': 112779, u'_dataValueBytes': [8, 53, 142, 4, 181, 131, 2, 201, 127, 2, 92, 82, 1, 217, 215, 1, 184, 139, 3, 165, 246, 1, 161, 213], u'lowAlpha': 182655, u'delta': 537998, u'theta': 308611, u'midGamma': 106965}, {u'lowGamma': 210825, u'highAlpha': 28892, u'lowBeta': 137315, u'highBeta': 502904, u'_dataValueBytes': [30, 62, 20, 2, 121, 195, 0, 146, 195, 0, 112, 220, 2, 24, 99, 7, 172, 120, 3, 55, 137, 1, 123, 70], u'lowAlpha': 37571, u'delta': 1981972, u'theta': 162243, u'midGamma': 97094}]}\n",
      "{u'qid': 1, u'truthful': False, u'data': [{u'lowGamma': 15114, u'highAlpha': 17317, u'lowBeta': 31516, u'highBeta': 17996, u'_dataValueBytes': [8, 253, 235, 0, 153, 60, 0, 15, 227, 0, 67, 165, 0, 123, 28, 0, 70, 76, 0, 59, 10, 0, 98, 83], u'lowAlpha': 4067, u'delta': 589291, u'theta': 39228, u'midGamma': 25171}, {u'lowGamma': 15622, u'highAlpha': 17687, u'lowBeta': 10018, u'highBeta': 22604, u'_dataValueBytes': [17, 87, 235, 0, 172, 13, 0, 230, 95, 0, 69, 23, 0, 39, 34, 0, 88, 76, 0, 61, 6, 0, 62, 149], u'lowAlpha': 58975, u'delta': 1136619, u'theta': 44045, u'midGamma': 16021}, {u'lowGamma': 37396, u'highAlpha': 50521, u'lowBeta': 49501, u'highBeta': 95471, u'_dataValueBytes': [17, 63, 148, 0, 167, 51, 0, 33, 224, 0, 197, 89, 0, 193, 93, 1, 116, 239, 0, 146, 20, 0, 62, 168], u'lowAlpha': 8672, u'delta': 1130388, u'theta': 42803, u'midGamma': 16040}, {u'lowGamma': 1974, u'highAlpha': 1288, u'lowBeta': 13123, u'highBeta': 7472, u'_dataValueBytes': [0, 207, 136, 0, 36, 206, 0, 5, 229, 0, 5, 8, 0, 51, 67, 0, 29, 48, 0, 7, 182, 0, 12, 231], u'lowAlpha': 1509, u'delta': 53128, u'theta': 9422, u'midGamma': 3303}, {u'lowGamma': 4058, u'highAlpha': 1424, u'lowBeta': 7169, u'highBeta': 6197, u'_dataValueBytes': [0, 200, 195, 0, 196, 165, 0, 5, 112, 0, 5, 144, 0, 28, 1, 0, 24, 53, 0, 15, 218, 0, 7, 21], u'lowAlpha': 1392, u'delta': 51395, u'theta': 50341, u'midGamma': 1813}, {u'lowGamma': 16732, u'highAlpha': 12231, u'lowBeta': 25525, u'highBeta': 23111, u'_dataValueBytes': [7, 32, 176, 1, 187, 1, 0, 88, 244, 0, 47, 199, 0, 99, 181, 0, 90, 71, 0, 65, 92, 0, 58, 138], u'lowAlpha': 22772, u'delta': 467120, u'theta': 113409, u'midGamma': 14986}, {u'lowGamma': 2852, u'highAlpha': 1287, u'lowBeta': 5244, u'highBeta': 3336, u'_dataValueBytes': [1, 203, 162, 0, 197, 168, 0, 11, 195, 0, 5, 7, 0, 20, 124, 0, 13, 8, 0, 11, 36, 0, 17, 77], u'lowAlpha': 3011, u'delta': 117666, u'theta': 50600, u'midGamma': 4429}, {u'lowGamma': 2577, u'highAlpha': 3779, u'lowBeta': 5050, u'highBeta': 9557, u'_dataValueBytes': [0, 220, 9, 0, 33, 212, 0, 12, 197, 0, 14, 195, 0, 19, 186, 0, 37, 85, 0, 10, 17, 0, 6, 208], u'lowAlpha': 3269, u'delta': 56329, u'theta': 8660, u'midGamma': 1744}, {u'lowGamma': 18869, u'highAlpha': 7092, u'lowBeta': 10201, u'highBeta': 21386, u'_dataValueBytes': [7, 10, 246, 0, 62, 190, 0, 61, 39, 0, 27, 180, 0, 39, 217, 0, 83, 138, 0, 73, 181, 0, 47, 75], u'lowAlpha': 15655, u'delta': 461558, u'theta': 16062, u'midGamma': 12107}]}\n",
      "{u'qid': 2, u'truthful': True, u'data': [{u'lowGamma': 37371, u'highAlpha': 8105, u'lowBeta': 16727, u'highBeta': 28943, u'_dataValueBytes': [12, 142, 249, 0, 215, 33, 0, 17, 179, 0, 31, 169, 0, 65, 87, 0, 113, 15, 0, 145, 251, 0, 65, 83], u'lowAlpha': 4531, u'delta': 823033, u'theta': 55073, u'midGamma': 16723}, {u'lowGamma': 13131, u'highAlpha': 4351, u'lowBeta': 20452, u'highBeta': 15259, u'_dataValueBytes': [10, 138, 134, 0, 131, 30, 0, 78, 13, 0, 16, 255, 0, 79, 228, 0, 59, 155, 0, 51, 75, 0, 75, 190], u'lowAlpha': 19981, u'delta': 690822, u'theta': 33566, u'midGamma': 19390}, {u'lowGamma': 42435, u'highAlpha': 3044, u'lowBeta': 11959, u'highBeta': 50807, u'_dataValueBytes': [5, 47, 198, 1, 13, 237, 0, 53, 115, 0, 11, 228, 0, 46, 183, 0, 198, 119, 0, 165, 195, 0, 58, 196], u'lowAlpha': 13683, u'delta': 339910, u'theta': 69101, u'midGamma': 15044}, {u'lowGamma': 2013, u'highAlpha': 3775, u'lowBeta': 7230, u'highBeta': 9848, u'_dataValueBytes': [0, 149, 208, 0, 28, 204, 0, 44, 70, 0, 14, 191, 0, 28, 62, 0, 38, 120, 0, 7, 221, 0, 9, 114], u'lowAlpha': 11334, u'delta': 38352, u'theta': 7372, u'midGamma': 2418}, {u'lowGamma': 2686, u'highAlpha': 3651, u'lowBeta': 5148, u'highBeta': 10087, u'_dataValueBytes': [1, 42, 79, 0, 36, 176, 0, 22, 27, 0, 14, 67, 0, 20, 28, 0, 39, 103, 0, 10, 126, 0, 7, 43], u'lowAlpha': 5659, u'delta': 76367, u'theta': 9392, u'midGamma': 1835}, {u'lowGamma': 2242, u'highAlpha': 807, u'lowBeta': 7731, u'highBeta': 5509, u'_dataValueBytes': [1, 116, 184, 0, 33, 24, 0, 9, 138, 0, 3, 39, 0, 30, 51, 0, 21, 133, 0, 8, 194, 0, 18, 60], u'lowAlpha': 2442, u'delta': 95416, u'theta': 8472, u'midGamma': 4668}, {u'lowGamma': 3369, u'highAlpha': 1002, u'lowBeta': 3488, u'highBeta': 6519, u'_dataValueBytes': [1, 129, 231, 0, 43, 211, 0, 24, 208, 0, 3, 234, 0, 13, 160, 0, 25, 119, 0, 13, 41, 0, 20, 20], u'lowAlpha': 6352, u'delta': 98791, u'theta': 11219, u'midGamma': 5140}, {u'lowGamma': 22686, u'highAlpha': 18047, u'lowBeta': 27978, u'highBeta': 26498, u'_dataValueBytes': [10, 239, 212, 0, 244, 214, 0, 20, 184, 0, 70, 127, 0, 109, 74, 0, 103, 130, 0, 88, 158, 0, 45, 65], u'lowAlpha': 5304, u'delta': 716756, u'theta': 62678, u'midGamma': 11585}, {u'lowGamma': 15791, u'highAlpha': 15276, u'lowBeta': 39553, u'highBeta': 21675, u'_dataValueBytes': [10, 119, 103, 0, 173, 56, 0, 79, 162, 0, 59, 172, 0, 154, 129, 0, 84, 171, 0, 61, 175, 0, 53, 59], u'lowAlpha': 20386, u'delta': 685927, u'theta': 44344, u'midGamma': 13627}, {u'lowGamma': 24864, u'highAlpha': 6974, u'lowBeta': 12039, u'highBeta': 16056, u'_dataValueBytes': [12, 119, 206, 0, 124, 69, 0, 186, 156, 0, 27, 62, 0, 47, 7, 0, 62, 184, 0, 97, 32, 0, 36, 150], u'lowAlpha': 47772, u'delta': 817102, u'theta': 31813, u'midGamma': 9366}]}\n"
     ]
    }
   ],
   "source": [
    "for a in load_answers(\"Amanda\"):\n",
    "    print a"
   ]
  },
  {
   "cell_type": "code",
   "execution_count": 13,
   "metadata": {},
   "outputs": [
    {
     "name": "stdout",
     "output_type": "stream",
     "text": [
      "22\n",
      "10\n"
     ]
    }
   ],
   "source": [
    "print len(my_list[0][\"data\"])\n",
    "print len(my_list[1][\"data\"])"
   ]
  },
  {
   "cell_type": "code",
   "execution_count": null,
   "metadata": {
    "collapsed": true
   },
   "outputs": [],
   "source": []
  },
  {
   "cell_type": "code",
   "execution_count": null,
   "metadata": {
    "collapsed": true
   },
   "outputs": [],
   "source": []
  }
 ],
 "metadata": {
  "kernelspec": {
   "display_name": "Python 2",
   "language": "python",
   "name": "python2"
  },
  "language_info": {
   "codemirror_mode": {
    "name": "ipython",
    "version": 2
   },
   "file_extension": ".py",
   "mimetype": "text/x-python",
   "name": "python",
   "nbconvert_exporter": "python",
   "pygments_lexer": "ipython2",
   "version": "2.7.13"
  }
 },
 "nbformat": 4,
 "nbformat_minor": 2
}
